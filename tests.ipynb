{
 "cells": [
  {
   "cell_type": "code",
   "execution_count": null,
   "metadata": {},
   "outputs": [],
   "source": [
    "import streamlit as st\n",
    "import snowflake.connector"
   ]
  },
  {
   "cell_type": "code",
   "execution_count": null,
   "metadata": {},
   "outputs": [],
   "source": [
    "# Initialize connection.\n",
    "# Uses st.cache_resource to only run once.\n",
    "@st.cache_resource\n",
    "def init_connection():\n",
    "    return snowflake.connector.connect(\n",
    "        **st.secrets[\"snowflake\"], client_session_keep_alive=True\n",
    "    )\n",
    "\n",
    "conn = init_connection()\n",
    "\n",
    "# Perform query.\n",
    "# Uses st.cache_data to only rerun when the query changes or after 10 min.\n",
    "@st.cache_data(ttl=600)\n",
    "def run_query(query):\n",
    "    with conn.cursor() as cur:\n",
    "        cur.execute(query)\n",
    "        return cur.fetchall()\n",
    "\n",
    "data = run_query(\"SELECT PLACEKEY, PARENT_PLACEKEY, LATITUDE, LONGITUDE, STREET_ADDRESS, CITY, REGION, POSTAL_CODE from CORE_POI;\")\n"
   ]
  },
  {
   "cell_type": "code",
   "execution_count": null,
   "metadata": {},
   "outputs": [],
   "source": [
    "data"
   ]
  },
  {
   "cell_type": "code",
   "execution_count": null,
   "metadata": {},
   "outputs": [],
   "source": []
  }
 ],
 "metadata": {
  "language_info": {
   "name": "python"
  },
  "orig_nbformat": 4
 },
 "nbformat": 4,
 "nbformat_minor": 2
}
